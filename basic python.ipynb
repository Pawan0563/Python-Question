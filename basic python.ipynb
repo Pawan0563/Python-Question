{
 "cells": [
  {
   "cell_type": "code",
   "execution_count": 1,
   "id": "4012aafa",
   "metadata": {},
   "outputs": [
    {
     "data": {
      "text/plain": [
       "85"
      ]
     },
     "execution_count": 1,
     "metadata": {},
     "output_type": "execute_result"
    }
   ],
   "source": [
    "20+65"
   ]
  },
  {
   "cell_type": "code",
   "execution_count": 2,
   "id": "4232dba5",
   "metadata": {},
   "outputs": [
    {
     "data": {
      "text/plain": [
       "84396"
      ]
     },
     "execution_count": 2,
     "metadata": {},
     "output_type": "execute_result"
    }
   ],
   "source": [
    "156*541"
   ]
  },
  {
   "cell_type": "code",
   "execution_count": 3,
   "id": "88fccc13",
   "metadata": {},
   "outputs": [
    {
     "name": "stdout",
     "output_type": "stream",
     "text": [
      "dabbang chhora \n"
     ]
    }
   ],
   "source": [
    "print(\"dabbang chhora \")"
   ]
  },
  {
   "cell_type": "code",
   "execution_count": 4,
   "id": "f0fda512",
   "metadata": {},
   "outputs": [],
   "source": [
    "#kiurikirqgj"
   ]
  },
  {
   "cell_type": "code",
   "execution_count": 5,
   "id": "42a354b6",
   "metadata": {},
   "outputs": [
    {
     "data": {
      "text/plain": [
       "'yq8ugjg 7yusy8yujf'"
      ]
     },
     "execution_count": 5,
     "metadata": {},
     "output_type": "execute_result"
    }
   ],
   "source": [
    "\"\"\"yq8ugjg 7yusy8yujf\"\"\""
   ]
  },
  {
   "cell_type": "code",
   "execution_count": 19,
   "id": "da099541",
   "metadata": {},
   "outputs": [
    {
     "name": "stdout",
     "output_type": "stream",
     "text": [
      "c:'narry\n"
     ]
    }
   ],
   "source": [
    " print(\"c:\\'narry\")\n"
   ]
  },
  {
   "cell_type": "code",
   "execution_count": 8,
   "id": "9c59560b",
   "metadata": {},
   "outputs": [
    {
     "name": "stdout",
     "output_type": "stream",
     "text": [
      "ram\n",
      " is the\tthe good'person\n"
     ]
    }
   ],
   "source": [
    "print(\"ram\\n is the\\tthe good\\'person\")"
   ]
  },
  {
   "cell_type": "code",
   "execution_count": 14,
   "id": "7f3ca474",
   "metadata": {},
   "outputs": [
    {
     "name": "stdout",
     "output_type": "stream",
     "text": [
      "ram \n",
      "is \n",
      "thegood \n",
      " boy\n"
     ]
    }
   ],
   "source": [
    "print(\"ram \\nis \\nthe\\\n",
    "good \\n boy\")"
   ]
  },
  {
   "cell_type": "code",
   "execution_count": 23,
   "id": "1767dac8",
   "metadata": {},
   "outputs": [
    {
     "name": "stdout",
     "output_type": "stream",
     "text": [
      "ram \n",
      "kahe ram tariye ke maiee\n"
     ]
    }
   ],
   "source": [
    "print(\"ram \\nkahe ram tariye ke maiee\")"
   ]
  },
  {
   "cell_type": "code",
   "execution_count": 24,
   "id": "80e3a2cd",
   "metadata": {},
   "outputs": [
    {
     "name": "stdout",
     "output_type": "stream",
     "text": [
      "ram 'kahe ram tariye ke maiee\n"
     ]
    }
   ],
   "source": [
    "print(\"ram \\'kahe ram tariye ke maiee\")"
   ]
  },
  {
   "cell_type": "code",
   "execution_count": 25,
   "id": "f814416e",
   "metadata": {},
   "outputs": [
    {
     "name": "stdout",
     "output_type": "stream",
     "text": [
      "ram \"kahe ram tariye ke maiee\n"
     ]
    }
   ],
   "source": [
    "print(\"ram \\\"kahe ram tariye ke maiee\")"
   ]
  },
  {
   "cell_type": "code",
   "execution_count": 26,
   "id": "a115bb87",
   "metadata": {},
   "outputs": [
    {
     "name": "stdout",
     "output_type": "stream",
     "text": [
      "ram \u0007kahe ram tariye ke maiee\n"
     ]
    }
   ],
   "source": [
    "print(\"ram \\akahe ram tariye ke maiee\")"
   ]
  },
  {
   "cell_type": "code",
   "execution_count": 31,
   "id": "fe42b629",
   "metadata": {},
   "outputs": [
    {
     "name": "stdout",
     "output_type": "stream",
     "text": [
      "ram \bkahe ram tariye ke maiee\n"
     ]
    }
   ],
   "source": [
    "print(\"ram \\bkahe ram tariye ke maiee\")"
   ]
  },
  {
   "cell_type": "code",
   "execution_count": 35,
   "id": "dbc986ab",
   "metadata": {},
   "outputs": [
    {
     "name": "stdout",
     "output_type": "stream",
     "text": [
      "hnuytf \bjouiyhubn \n"
     ]
    }
   ],
   "source": [
    "print('hnuytf \\bjouiyhubn ')"
   ]
  },
  {
   "cell_type": "code",
   "execution_count": 37,
   "id": "fa35022c",
   "metadata": {},
   "outputs": [
    {
     "name": "stdout",
     "output_type": "stream",
     "text": [
      "iuijknop \bjkmn\n"
     ]
    }
   ],
   "source": [
    "print(\"iuijknop \\bjkmn\")"
   ]
  },
  {
   "cell_type": "code",
   "execution_count": 40,
   "id": "49cf6c10",
   "metadata": {},
   "outputs": [
    {
     "name": "stdout",
     "output_type": "stream",
     "text": [
      "njhdj \f",
      "jhjhguh bjhg \n"
     ]
    }
   ],
   "source": [
    "print(\"njhdj \\fjhjhguh bjhg \")"
   ]
  },
  {
   "cell_type": "code",
   "execution_count": 43,
   "id": "96ba9972",
   "metadata": {},
   "outputs": [
    {
     "name": "stdout",
     "output_type": "stream",
     "text": [
      "hello \n",
      "world\n"
     ]
    }
   ],
   "source": [
    "print(\"hello \\nworld\")"
   ]
  },
  {
   "cell_type": "code",
   "execution_count": 46,
   "id": "12d74ef1",
   "metadata": {},
   "outputs": [
    {
     "name": "stdout",
     "output_type": "stream",
     "text": [
      "dabbang bhai \r",
      "is real hero\n"
     ]
    }
   ],
   "source": [
    "print(\"dabbang bhai \\ris real hero\")"
   ]
  },
  {
   "cell_type": "code",
   "execution_count": 50,
   "id": "9ac5d926",
   "metadata": {},
   "outputs": [
    {
     "name": "stdout",
     "output_type": "stream",
     "text": [
      "hello\r",
      " world\n"
     ]
    }
   ],
   "source": [
    "print(\"hello\\r world\")"
   ]
  },
  {
   "cell_type": "code",
   "execution_count": 51,
   "id": "68bc0609",
   "metadata": {},
   "outputs": [
    {
     "name": "stdout",
     "output_type": "stream",
     "text": [
      "hello \tworld\n"
     ]
    }
   ],
   "source": [
    "print(\"hello \\tworld\")"
   ]
  },
  {
   "cell_type": "code",
   "execution_count": 53,
   "id": "d3c8d02e",
   "metadata": {},
   "outputs": [
    {
     "name": "stdout",
     "output_type": "stream",
     "text": [
      "hello \u000b",
      " world\n"
     ]
    }
   ],
   "source": [
    "print(\"hello \\v world\")"
   ]
  },
  {
   "cell_type": "code",
   "execution_count": 54,
   "id": "1e2b3b86",
   "metadata": {},
   "outputs": [
    {
     "name": "stdout",
     "output_type": "stream",
     "text": [
      "hello \u000b",
      "world\n"
     ]
    }
   ],
   "source": [
    "print(\"hello \\vworld\")"
   ]
  },
  {
   "cell_type": "code",
   "execution_count": 56,
   "id": "0c6bfbc5",
   "metadata": {},
   "outputs": [
    {
     "name": "stdout",
     "output_type": "stream",
     "text": [
      "hello \\ooo world\n"
     ]
    }
   ],
   "source": [
    "print(\"hello \\ooo world\")"
   ]
  },
  {
   "cell_type": "code",
   "execution_count": 1,
   "id": "5a7683ec",
   "metadata": {},
   "outputs": [],
   "source": [
    "#variables"
   ]
  },
  {
   "cell_type": "code",
   "execution_count": 12,
   "id": "6f9e7500",
   "metadata": {},
   "outputs": [],
   "source": [
    "var1 =(\"hello world\")\n",
    "var2=34\n",
    "var3=67.756"
   ]
  },
  {
   "cell_type": "code",
   "execution_count": 13,
   "id": "4d8d3b99",
   "metadata": {},
   "outputs": [
    {
     "name": "stdout",
     "output_type": "stream",
     "text": [
      "hello world\n"
     ]
    }
   ],
   "source": [
    "print(var1)"
   ]
  },
  {
   "cell_type": "code",
   "execution_count": 14,
   "id": "24c25a58",
   "metadata": {},
   "outputs": [
    {
     "data": {
      "text/plain": [
       "str"
      ]
     },
     "execution_count": 14,
     "metadata": {},
     "output_type": "execute_result"
    }
   ],
   "source": [
    "type(var1)"
   ]
  },
  {
   "cell_type": "code",
   "execution_count": 15,
   "id": "2f3ba519",
   "metadata": {},
   "outputs": [
    {
     "name": "stdout",
     "output_type": "stream",
     "text": [
      "34\n"
     ]
    }
   ],
   "source": [
    "print(var2)"
   ]
  },
  {
   "cell_type": "code",
   "execution_count": 16,
   "id": "d0d41527",
   "metadata": {},
   "outputs": [
    {
     "data": {
      "text/plain": [
       "int"
      ]
     },
     "execution_count": 16,
     "metadata": {},
     "output_type": "execute_result"
    }
   ],
   "source": [
    "type(var2)"
   ]
  },
  {
   "cell_type": "code",
   "execution_count": 40,
   "id": "cf35c0dc",
   "metadata": {},
   "outputs": [
    {
     "name": "stdout",
     "output_type": "stream",
     "text": [
      "1017560.0\n"
     ]
    }
   ],
   "source": [
    "print(10000* (float(var3+var2)))"
   ]
  },
  {
   "cell_type": "code",
   "execution_count": 101,
   "id": "56e978c4",
   "metadata": {},
   "outputs": [
    {
     "name": "stdout",
     "output_type": "stream",
     "text": [
      "i love you\ti love you\ti love you\ti love you\ti love you\ti love you\ti love you\ti love you\ti love you\ti love you\t\n"
     ]
    }
   ],
   "source": [
    "print(10* \"i love you\\t\")"
   ]
  },
  {
   "cell_type": "code",
   "execution_count": 41,
   "id": "30f15a1a",
   "metadata": {},
   "outputs": [
    {
     "name": "stdout",
     "output_type": "stream",
     "text": [
      "input yuor number\n"
     ]
    }
   ],
   "source": [
    "print(\"input yuor number\")"
   ]
  },
  {
   "cell_type": "code",
   "execution_count": 42,
   "id": "53c09865",
   "metadata": {},
   "outputs": [
    {
     "name": "stdout",
     "output_type": "stream",
     "text": [
      "45\n"
     ]
    }
   ],
   "source": [
    "impnum=input()"
   ]
  },
  {
   "cell_type": "code",
   "execution_count": 47,
   "id": "958cb02f",
   "metadata": {},
   "outputs": [
    {
     "ename": "TypeError",
     "evalue": "can only concatenate str (not \"int\") to str",
     "output_type": "error",
     "traceback": [
      "\u001b[1;31m---------------------------------------------------------------------------\u001b[0m",
      "\u001b[1;31mTypeError\u001b[0m                                 Traceback (most recent call last)",
      "\u001b[1;32mC:\\Users\\PAWANK~1\\AppData\\Local\\Temp/ipykernel_16480/3383268798.py\u001b[0m in \u001b[0;36m<module>\u001b[1;34m\u001b[0m\n\u001b[1;32m----> 1\u001b[1;33m \u001b[0mprint\u001b[0m\u001b[1;33m(\u001b[0m\u001b[1;34m\"input your number\"\u001b[0m\u001b[1;33m,\u001b[0m\u001b[0mint\u001b[0m\u001b[1;33m(\u001b[0m\u001b[0mimpnum\u001b[0m\u001b[1;33m+\u001b[0m\u001b[1;36m12\u001b[0m\u001b[1;33m)\u001b[0m\u001b[1;33m)\u001b[0m\u001b[1;33m\u001b[0m\u001b[1;33m\u001b[0m\u001b[0m\n\u001b[0m",
      "\u001b[1;31mTypeError\u001b[0m: can only concatenate str (not \"int\") to str"
     ]
    }
   ],
   "source": [
    "print(\"input your number\",int(impnum+12))"
   ]
  },
  {
   "cell_type": "code",
   "execution_count": 1,
   "id": "5d3dbb1a",
   "metadata": {},
   "outputs": [
    {
     "name": "stdout",
     "output_type": "stream",
     "text": [
      "Enter first number\n",
      "78\n",
      "Enter second number\n",
      "98\n",
      "Sum of these numbers is 0.7959183673469388\n"
     ]
    }
   ],
   "source": [
    "#calculetor\n",
    "print(\"Enter first number\")\n",
    "n1= input()\n",
    "print(\"Enter second number\")\n",
    "n2=input()\n",
    "\n",
    "print (\"Sum of these numbers is\",int(n1)/ int(n2))\n",
    "\n"
   ]
  },
  {
   "cell_type": "code",
   "execution_count": 112,
   "id": "7e006d23",
   "metadata": {},
   "outputs": [],
   "source": [
    "mystr=\"Dabbang chhora is a good boy\""
   ]
  },
  {
   "cell_type": "code",
   "execution_count": 113,
   "id": "e3858f3c",
   "metadata": {},
   "outputs": [
    {
     "name": "stdout",
     "output_type": "stream",
     "text": [
      "Dabbang chhora is a good boy\n"
     ]
    }
   ],
   "source": [
    "print(mystr)"
   ]
  },
  {
   "cell_type": "code",
   "execution_count": 114,
   "id": "1479e85f",
   "metadata": {},
   "outputs": [
    {
     "name": "stdout",
     "output_type": "stream",
     "text": [
      "r\n"
     ]
    }
   ],
   "source": [
    "print(mystr[12])"
   ]
  },
  {
   "cell_type": "code",
   "execution_count": 115,
   "id": "ade05dbe",
   "metadata": {},
   "outputs": [
    {
     "name": "stdout",
     "output_type": "stream",
     "text": [
      "Dabbang chho\n"
     ]
    }
   ],
   "source": [
    "print(mystr[0:12])"
   ]
  },
  {
   "cell_type": "code",
   "execution_count": 116,
   "id": "a04326aa",
   "metadata": {},
   "outputs": [
    {
     "name": "stdout",
     "output_type": "stream",
     "text": [
      "28\n"
     ]
    }
   ],
   "source": [
    "print(len(mystr))"
   ]
  },
  {
   "cell_type": "code",
   "execution_count": 117,
   "id": "2a8c72f9",
   "metadata": {},
   "outputs": [
    {
     "name": "stdout",
     "output_type": "stream",
     "text": [
      "Dnhigb\n"
     ]
    }
   ],
   "source": [
    "print(mystr[0:29:5])"
   ]
  },
  {
   "cell_type": "code",
   "execution_count": 118,
   "id": "81f5a728",
   "metadata": {},
   "outputs": [
    {
     "name": "stdout",
     "output_type": "stream",
     "text": [
      "r\n"
     ]
    }
   ],
   "source": [
    "print(mystr[12])"
   ]
  },
  {
   "cell_type": "code",
   "execution_count": 119,
   "id": "287db04a",
   "metadata": {},
   "outputs": [
    {
     "name": "stdout",
     "output_type": "stream",
     "text": [
      "ra i\n"
     ]
    }
   ],
   "source": [
    "print(mystr[12:-12])"
   ]
  },
  {
   "cell_type": "code",
   "execution_count": 120,
   "id": "ba379012",
   "metadata": {},
   "outputs": [
    {
     "name": "stdout",
     "output_type": "stream",
     "text": [
      "D\n"
     ]
    }
   ],
   "source": [
    "print(mystr[::56])"
   ]
  },
  {
   "cell_type": "code",
   "execution_count": 121,
   "id": "314b75c7",
   "metadata": {},
   "outputs": [
    {
     "name": "stdout",
     "output_type": "stream",
     "text": [
      "yob doog a si arohhc gnabbaD\n"
     ]
    }
   ],
   "source": [
    "print(mystr[::-1])"
   ]
  },
  {
   "cell_type": "code",
   "execution_count": 122,
   "id": "7eccfb70",
   "metadata": {},
   "outputs": [
    {
     "name": "stdout",
     "output_type": "stream",
     "text": [
      "Dabbang chhora is a good boy\n"
     ]
    }
   ],
   "source": [
    "print(mystr[::1])"
   ]
  },
  {
   "cell_type": "code",
   "execution_count": 123,
   "id": "d86b89dd",
   "metadata": {},
   "outputs": [
    {
     "name": "stdout",
     "output_type": "stream",
     "text": [
      "D\n"
     ]
    }
   ],
   "source": [
    "print(mystr[::666])"
   ]
  },
  {
   "cell_type": "code",
   "execution_count": 124,
   "id": "e9e40f8f",
   "metadata": {},
   "outputs": [
    {
     "name": "stdout",
     "output_type": "stream",
     "text": [
      "\n"
     ]
    }
   ],
   "source": [
    "print(mystr[-4:1])"
   ]
  },
  {
   "cell_type": "code",
   "execution_count": 125,
   "id": "76d0902d",
   "metadata": {},
   "outputs": [
    {
     "name": "stdout",
     "output_type": "stream",
     "text": [
      "Dabbang chhora is a good boy\n"
     ]
    }
   ],
   "source": [
    "print(mystr[-29:29])"
   ]
  },
  {
   "cell_type": "code",
   "execution_count": 126,
   "id": "169c9bea",
   "metadata": {},
   "outputs": [
    {
     "name": "stdout",
     "output_type": "stream",
     "text": [
      "<built-in method isalnum of str object at 0x000001AE4A96FE90>\n"
     ]
    }
   ],
   "source": [
    "print(mystr.isalnum)"
   ]
  },
  {
   "cell_type": "code",
   "execution_count": 127,
   "id": "c0d8e0a8",
   "metadata": {},
   "outputs": [
    {
     "name": "stdout",
     "output_type": "stream",
     "text": [
      "True\n"
     ]
    }
   ],
   "source": [
    "print(mystr.endswith(\"boy\"))"
   ]
  },
  {
   "cell_type": "code",
   "execution_count": 128,
   "id": "fdbf7db9",
   "metadata": {},
   "outputs": [
    {
     "name": "stdout",
     "output_type": "stream",
     "text": [
      "False\n"
     ]
    }
   ],
   "source": [
    "print(mystr.endswith(\"hboy\"))"
   ]
  },
  {
   "cell_type": "code",
   "execution_count": 129,
   "id": "834ff4e4",
   "metadata": {},
   "outputs": [
    {
     "name": "stdout",
     "output_type": "stream",
     "text": [
      "4\n"
     ]
    }
   ],
   "source": [
    "print(mystr.count(\"o\"))"
   ]
  },
  {
   "cell_type": "code",
   "execution_count": 130,
   "id": "f7f67617",
   "metadata": {},
   "outputs": [
    {
     "name": "stdout",
     "output_type": "stream",
     "text": [
      "2\n"
     ]
    }
   ],
   "source": [
    "print(mystr.count(\"g\"))"
   ]
  },
  {
   "cell_type": "code",
   "execution_count": 131,
   "id": "93face6e",
   "metadata": {},
   "outputs": [
    {
     "name": "stdout",
     "output_type": "stream",
     "text": [
      "1\n"
     ]
    }
   ],
   "source": [
    "print(mystr.count(\"oo\"))"
   ]
  },
  {
   "cell_type": "code",
   "execution_count": 132,
   "id": "dcdf8d04",
   "metadata": {},
   "outputs": [
    {
     "name": "stdout",
     "output_type": "stream",
     "text": [
      "Dabbang chhora is a good boy\n"
     ]
    }
   ],
   "source": [
    "print(mystr.capitalize())"
   ]
  },
  {
   "cell_type": "code",
   "execution_count": 134,
   "id": "4196b6bf",
   "metadata": {},
   "outputs": [
    {
     "name": "stdout",
     "output_type": "stream",
     "text": [
      "15\n"
     ]
    }
   ],
   "source": [
    "print(mystr.find(\"is\"))"
   ]
  },
  {
   "cell_type": "code",
   "execution_count": 135,
   "id": "804e386a",
   "metadata": {},
   "outputs": [
    {
     "name": "stdout",
     "output_type": "stream",
     "text": [
      "DABBANG CHHORA IS A GOOD BOY\n"
     ]
    }
   ],
   "source": [
    "print(mystr.upper())"
   ]
  },
  {
   "cell_type": "code",
   "execution_count": 136,
   "id": "35a4a429",
   "metadata": {},
   "outputs": [
    {
     "name": "stdout",
     "output_type": "stream",
     "text": [
      "dabbang chhora is a good boy\n"
     ]
    }
   ],
   "source": [
    "print(mystr.lower())"
   ]
  },
  {
   "cell_type": "code",
   "execution_count": 137,
   "id": "07bd0470",
   "metadata": {},
   "outputs": [
    {
     "name": "stdout",
     "output_type": "stream",
     "text": [
      "Dabbang chhora are a good boy\n"
     ]
    }
   ],
   "source": [
    "print(mystr.replace(\"is\",\"are\"))"
   ]
  },
  {
   "cell_type": "code",
   "execution_count": 138,
   "id": "9b24f91e",
   "metadata": {},
   "outputs": [],
   "source": [
    "#string fuction"
   ]
  },
  {
   "cell_type": "code",
   "execution_count": 3,
   "id": "37a24078",
   "metadata": {},
   "outputs": [],
   "source": [
    "don=(\"my laptop is the best for all of them\")"
   ]
  },
  {
   "cell_type": "code",
   "execution_count": 4,
   "id": "2cd0e00c",
   "metadata": {},
   "outputs": [
    {
     "name": "stdout",
     "output_type": "stream",
     "text": [
      "my laptop is the best for all of them\n"
     ]
    }
   ],
   "source": [
    "print(don)"
   ]
  },
  {
   "cell_type": "code",
   "execution_count": 5,
   "id": "c2eabe3e",
   "metadata": {},
   "outputs": [
    {
     "name": "stdout",
     "output_type": "stream",
     "text": [
      "MY LAPTOP IS THE BEST FOR ALL OF THEM\n"
     ]
    }
   ],
   "source": [
    "print(don.upper())"
   ]
  },
  {
   "cell_type": "code",
   "execution_count": 6,
   "id": "6a452ba6",
   "metadata": {},
   "outputs": [
    {
     "name": "stdout",
     "output_type": "stream",
     "text": [
      "My laptop is the best for all of them\n"
     ]
    }
   ],
   "source": [
    "print(don.capitalize())  #convert the first character in upper case"
   ]
  },
  {
   "cell_type": "code",
   "execution_count": 7,
   "id": "16799633",
   "metadata": {},
   "outputs": [
    {
     "name": "stdout",
     "output_type": "stream",
     "text": [
      "my laptop is the best for all of them\n"
     ]
    }
   ],
   "source": [
    "print(don.casefold())  #convert string into lower case\n"
   ]
  },
  {
   "cell_type": "code",
   "execution_count": 8,
   "id": "297093f4",
   "metadata": {},
   "outputs": [
    {
     "ename": "SyntaxError",
     "evalue": "invalid syntax (Temp/ipykernel_6660/177260512.py, line 1)",
     "output_type": "error",
     "traceback": [
      "\u001b[1;36m  File \u001b[1;32m\"C:\\Users\\PAWANK~1\\AppData\\Local\\Temp/ipykernel_6660/177260512.py\"\u001b[1;36m, line \u001b[1;32m1\u001b[0m\n\u001b[1;33m    print(don.center(for))\u001b[0m\n\u001b[1;37m                     ^\u001b[0m\n\u001b[1;31mSyntaxError\u001b[0m\u001b[1;31m:\u001b[0m invalid syntax\n"
     ]
    }
   ],
   "source": [
    "print(don.center(for))"
   ]
  },
  {
   "cell_type": "code",
   "execution_count": 9,
   "id": "1ec4a3c0",
   "metadata": {},
   "outputs": [
    {
     "name": "stdout",
     "output_type": "stream",
     "text": [
      "True\n"
     ]
    }
   ],
   "source": [
    "print(don.endswith(\"them\"))"
   ]
  },
  {
   "cell_type": "code",
   "execution_count": 10,
   "id": "b52bf9c1",
   "metadata": {},
   "outputs": [
    {
     "name": "stdout",
     "output_type": "stream",
     "text": [
      "my laptop is the best for all of them\n"
     ]
    }
   ],
   "source": [
    "print(don.expandtabs())"
   ]
  },
  {
   "cell_type": "code",
   "execution_count": 11,
   "id": "fe94a825",
   "metadata": {},
   "outputs": [
    {
     "name": "stdout",
     "output_type": "stream",
     "text": [
      "my laptop is the best for all of them\n"
     ]
    }
   ],
   "source": [
    "print(don.format())"
   ]
  },
  {
   "cell_type": "code",
   "execution_count": 12,
   "id": "c3e70670",
   "metadata": {},
   "outputs": [
    {
     "name": "stdout",
     "output_type": "stream",
     "text": [
      "my laptop is the best for all of them\n"
     ]
    }
   ],
   "source": [
    "print(don.format())"
   ]
  },
  {
   "cell_type": "code",
   "execution_count": null,
   "id": "51aa6482",
   "metadata": {},
   "outputs": [],
   "source": [
    "gorcery=[\"Ha\"]"
   ]
  },
  {
   "cell_type": "code",
   "execution_count": 4,
   "id": "9aabfaac",
   "metadata": {},
   "outputs": [
    {
     "ename": "TypeError",
     "evalue": "'str' object is not callable",
     "output_type": "error",
     "traceback": [
      "\u001b[1;31m---------------------------------------------------------------------------\u001b[0m",
      "\u001b[1;31mTypeError\u001b[0m                                 Traceback (most recent call last)",
      "\u001b[1;32mC:\\Users\\PAWANK~1\\AppData\\Local\\Temp/ipykernel_4172/2865217090.py\u001b[0m in \u001b[0;36m<module>\u001b[1;34m\u001b[0m\n\u001b[1;32m----> 1\u001b[1;33m \u001b[0mprint\u001b[0m\u001b[1;33m(\u001b[0m\u001b[1;34m\"Enter the first number\"\u001b[0m\u001b[1;33m)\u001b[0m\u001b[1;33m\u001b[0m\u001b[1;33m\u001b[0m\u001b[0m\n\u001b[0m\u001b[0;32m      2\u001b[0m \u001b[0mn1\u001b[0m\u001b[1;33m=\u001b[0m\u001b[0minput\u001b[0m\u001b[1;33m(\u001b[0m\u001b[1;33m)\u001b[0m\u001b[1;33m\u001b[0m\u001b[1;33m\u001b[0m\u001b[0m\n\u001b[0;32m      3\u001b[0m \u001b[0mprint\u001b[0m\u001b[1;33m=\u001b[0m\u001b[1;33m(\u001b[0m\u001b[1;34m\"Enter the second number\"\u001b[0m\u001b[1;33m)\u001b[0m\u001b[1;33m\u001b[0m\u001b[1;33m\u001b[0m\u001b[0m\n\u001b[0;32m      4\u001b[0m \u001b[0mn2\u001b[0m\u001b[1;33m=\u001b[0m\u001b[0minput\u001b[0m\u001b[1;33m(\u001b[0m\u001b[1;33m)\u001b[0m\u001b[1;33m\u001b[0m\u001b[1;33m\u001b[0m\u001b[0m\n\u001b[0;32m      5\u001b[0m \u001b[0mprint\u001b[0m\u001b[1;33m(\u001b[0m\u001b[1;34m\"sum of two number is\"\u001b[0m\u001b[1;33m,\u001b[0m\u001b[0mint\u001b[0m\u001b[1;33m(\u001b[0m\u001b[0mn1\u001b[0m\u001b[1;33m)\u001b[0m\u001b[1;33m+\u001b[0m\u001b[0mint\u001b[0m\u001b[1;33m(\u001b[0m\u001b[0mn2\u001b[0m\u001b[1;33m)\u001b[0m\u001b[1;33m)\u001b[0m\u001b[1;33m\u001b[0m\u001b[1;33m\u001b[0m\u001b[0m\n",
      "\u001b[1;31mTypeError\u001b[0m: 'str' object is not callable"
     ]
    }
   ],
   "source": [
    "print(\"Enter the first number\")\n",
    "n1=input()\n",
    "print=(\"Enter the second number\")\n",
    "n2=input()\n",
    "print(\"sum of two number is\",int(n1)+int(n2))"
   ]
  },
  {
   "cell_type": "markdown",
   "id": "b18b32cf",
   "metadata": {},
   "source": []
  },
  {
   "cell_type": "code",
   "execution_count": 8,
   "id": "00f38af4",
   "metadata": {},
   "outputs": [
    {
     "ename": "TypeError",
     "evalue": "'str' object is not callable",
     "output_type": "error",
     "traceback": [
      "\u001b[1;31m---------------------------------------------------------------------------\u001b[0m",
      "\u001b[1;31mTypeError\u001b[0m                                 Traceback (most recent call last)",
      "\u001b[1;32mC:\\Users\\PAWANK~1\\AppData\\Local\\Temp/ipykernel_4172/2641550991.py\u001b[0m in \u001b[0;36m<module>\u001b[1;34m\u001b[0m\n\u001b[0;32m      2\u001b[0m \u001b[0md1\u001b[0m\u001b[1;33m=\u001b[0m\u001b[1;33m{\u001b[0m\u001b[1;33m}\u001b[0m\u001b[1;33m\u001b[0m\u001b[1;33m\u001b[0m\u001b[0m\n\u001b[0;32m      3\u001b[0m \u001b[0md2\u001b[0m\u001b[1;33m=\u001b[0m\u001b[1;33m{\u001b[0m\u001b[1;34m\"Pawan\"\u001b[0m\u001b[1;33m:\u001b[0m\u001b[1;34m\"Burgur\"\u001b[0m\u001b[1;33m,\u001b[0m\u001b[1;34m\"Rohan\"\u001b[0m\u001b[1;33m:\u001b[0m\u001b[1;34m\"Fish\"\u001b[0m\u001b[1;33m,\u001b[0m\u001b[1;34m\"Ram\"\u001b[0m\u001b[1;33m:\u001b[0m\u001b[1;34m\"Roti\"\u001b[0m\u001b[1;33m}\u001b[0m\u001b[1;33m\u001b[0m\u001b[1;33m\u001b[0m\u001b[0m\n\u001b[1;32m----> 4\u001b[1;33m \u001b[0mprint\u001b[0m\u001b[1;33m(\u001b[0m\u001b[0md2\u001b[0m\u001b[1;33m)\u001b[0m\u001b[1;33m\u001b[0m\u001b[1;33m\u001b[0m\u001b[0m\n\u001b[0m",
      "\u001b[1;31mTypeError\u001b[0m: 'str' object is not callable"
     ]
    }
   ],
   "source": [
    "#dictionary is anothimg\n",
    "d1={}\n",
    "d2={\"Pawan\":\"Burgur\",\"Rohan\":\"Fish\",\"Ram\":\"Roti\"}\n",
    "print(d2)\n"
   ]
  },
  {
   "cell_type": "code",
   "execution_count": null,
   "id": "3d382f93",
   "metadata": {},
   "outputs": [],
   "source": []
  }
 ],
 "metadata": {
  "kernelspec": {
   "display_name": "Python 3 (ipykernel)",
   "language": "python",
   "name": "python3"
  },
  "language_info": {
   "codemirror_mode": {
    "name": "ipython",
    "version": 3
   },
   "file_extension": ".py",
   "mimetype": "text/x-python",
   "name": "python",
   "nbconvert_exporter": "python",
   "pygments_lexer": "ipython3",
   "version": "3.9.7"
  }
 },
 "nbformat": 4,
 "nbformat_minor": 5
}
